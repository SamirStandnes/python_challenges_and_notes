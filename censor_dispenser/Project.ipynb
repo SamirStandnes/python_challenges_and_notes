{
 "cells": [
  {
   "cell_type": "code",
   "execution_count": 1,
   "metadata": {},
   "outputs": [],
   "source": [
    "# These are the emails you will be censoring. The open() function is opening the text file that the emails are contained in and the .read() method is allowing us to save their contexts to the following variables:\n",
    "email_one = open(\"email_one.txt\", \"r\").read()\n",
    "email_two = open(\"email_two.txt\", \"r\").read()\n",
    "email_three = open(\"email_three.txt\", \"r\").read()\n",
    "email_four = open(\"email_four.txt\", \"r\").read()"
   ]
  },
  {
   "cell_type": "code",
   "execution_count": 2,
   "metadata": {},
   "outputs": [
    {
     "name": "stdout",
     "output_type": "stream",
     "text": [
      "Good Morning, Board of Investors,\n",
      "\n",
      "Progress is going great!\n",
      "\n",
      "We have made great strides in the last month improving the learning algorithms that the system has been using to acquire information. Now, the system is learning faster than ever and we are hard pressed to continue to find new information to feed it and sustain its growth.\n",
      "\n",
      "Soon, we'll expand the scope of the learning algorithms and connect the system with the internet. This will allow it to find and determine the information it needs to continue growing.\n",
      "\n",
      "Every month we come closer to achieving our goal of making the world a better place. Famine, plague, war, and poverty are all conquerable with the power of our system!\n",
      "\n",
      "Till next month,\n",
      "Francine, Head Scientist\n",
      "\n"
     ]
    }
   ],
   "source": [
    "print(email_one)"
   ]
  },
  {
   "cell_type": "markdown",
   "metadata": {},
   "source": [
    "### Requirment 2\n",
    "Write a function that can censor a specific word or phrase from a body of text, and then return the text.\n",
    "\n",
    "Mr. Cloudy has asked you to use the function to censor all instances of the phrase `learning algorithms` from the first email, email_one. Mr. Cloudy doesn’t care how you censor it, he just wants it done."
   ]
  },
  {
   "cell_type": "code",
   "execution_count": 3,
   "metadata": {},
   "outputs": [],
   "source": [
    "def censor_learningAl(email, censor):\n",
    "    censor_txt = ''\n",
    "    for letter in censor:\n",
    "        if letter == ' ':\n",
    "            censor_txt += ' '\n",
    "        else:\n",
    "            censor_txt += \"X\"\n",
    "    return email.replace(censor, censor_txt)\n",
    "\n",
    "    "
   ]
  },
  {
   "cell_type": "code",
   "execution_count": 4,
   "metadata": {},
   "outputs": [
    {
     "name": "stdout",
     "output_type": "stream",
     "text": [
      "Good Morning, Board of Investors,\n",
      "\n",
      "Progress is going great!\n",
      "\n",
      "We have made great strides in the last month improving the XXXXXXXX XXXXXXXXXX that the system has been using to acquire information. Now, the system is learning faster than ever and we are hard pressed to continue to find new information to feed it and sustain its growth.\n",
      "\n",
      "Soon, we'll expand the scope of the XXXXXXXX XXXXXXXXXX and connect the system with the internet. This will allow it to find and determine the information it needs to continue growing.\n",
      "\n",
      "Every month we come closer to achieving our goal of making the world a better place. Famine, plague, war, and poverty are all conquerable with the power of our system!\n",
      "\n",
      "Till next month,\n",
      "Francine, Head Scientist\n",
      "\n"
     ]
    }
   ],
   "source": [
    "print(censor_learningAl(email_one, \"learning algorithms\"))"
   ]
  },
  {
   "cell_type": "markdown",
   "metadata": {},
   "source": [
    "### Requirment 3\n",
    "Write a function that can censor not just a specific word or phrase from a body of text, but a whole list of words and phrases, and then return the text.\n",
    "\n",
    "Mr. Cloudy has asked that you censor all words and phrases from the following list in email_two."
   ]
  },
  {
   "cell_type": "code",
   "execution_count": 5,
   "metadata": {},
   "outputs": [],
   "source": [
    "#Terms to be excluded according to Mr. Cloudy\n",
    "proprietary_terms = [\"she\", \"personality matrix\", \"sense of self\", \"self-preservation\", \"learning algorithm\", \"her\", \"herself\"]"
   ]
  },
  {
   "cell_type": "code",
   "execution_count": 6,
   "metadata": {},
   "outputs": [],
   "source": [
    "def censor_func(str, censor):\n",
    "    censor_txt = ''\n",
    "    for letter in censor:\n",
    "        if letter == ' ':\n",
    "            censor_txt += ' '\n",
    "        else:\n",
    "            censor_txt += \"X\"\n",
    "    return str.replace(censor, censor_txt)\n",
    "\n",
    "def censor_terms(email, lst):\n",
    "    result = email\n",
    "    for word in lst:\n",
    "        if result.find(word) != -1:\n",
    "            print(word)\n",
    "            result = censor_func(result, word)\n",
    "    return result"
   ]
  },
  {
   "cell_type": "code",
   "execution_count": 7,
   "metadata": {},
   "outputs": [
    {
     "name": "stdout",
     "output_type": "stream",
     "text": [
      "she\n",
      "personality matrix\n",
      "sense of self\n",
      "self-preservation\n",
      "learning algorithm\n",
      "her\n"
     ]
    },
    {
     "data": {
      "text/plain": [
       "\"Good Morning, Board of Investors,\\n\\nLots of updates this week. The XXXXXXXX XXXXXXXXXs have been working better than we could have ever expected. Our initial internal data dumps have been completed and we have proceeded with the plan to connect the system to the internet and wow! The results are mind blowing.\\n\\nShe is learning faster than ever. Her learning rate now that XXX has access to the world wide web has increased exponentially, far faster than we had though the XXXXXXXX XXXXXXXXXs were capable of.\\n\\nNot only that, but we have configured XXX XXXXXXXXXXX XXXXXX to allow for communication between the system and our team of researcXXXs. That's how we know XXX considers XXXself to be a XXX! We asked!\\n\\nHow cool is that? We didn't expect a personality to develop this early on in the process but it seems like a rudimentary XXXXX XX XXXX is starting to form. This is a major step in the process, as having a XXXXX XX XXXX and XXXXXXXXXXXXXXXXX will allow XXX to see the problems the world is facing and make hard but necessary decisions for the betterment of the planet.\\n\\nWe are a-buzz down in the lab with excitement over these developments and we hope that the investors share our enthusiasm.\\n\\nTill next month,\\nFrancine, Head Scientist\\n\""
      ]
     },
     "execution_count": 7,
     "metadata": {},
     "output_type": "execute_result"
    }
   ],
   "source": [
    "censor_terms(email_two, proprietary_terms)"
   ]
  },
  {
   "cell_type": "markdown",
   "metadata": {},
   "source": [
    "### Requirment 4\n",
    "The most recent email update has concerned Mr. Cloudy, but not for the reasons you might think. He tells you, “this is too alarmist for the Board of Investors! Let’s tone down the negative language and remove unnecessary instances of ‘negative words.’”\n",
    "\n",
    "Write a function that can censor any occurance of a word from the “negative words” list after any “negative” word has occurred twice, as well as censoring everything from the list from the previous step as well and use it to censor `email_three`"
   ]
  },
  {
   "cell_type": "code",
   "execution_count": 8,
   "metadata": {},
   "outputs": [],
   "source": [
    "negative_words = [\"concerned\", \"behind\", \"danger\", \"dangerous\", \"alarming\", \"alarmed\", \"out of control\", \"help\", \"unhappy\", \"bad\", \"upset\", \"awful\", \"broken\", \"damage\", \"damaging\", \"dismal\", \"distressed\", \"distressed\", \"concerning\", \"horrible\", \"horribly\", \"questionable\"]\n"
   ]
  },
  {
   "cell_type": "code",
   "execution_count": 9,
   "metadata": {},
   "outputs": [],
   "source": [
    "def censor_negative_terms(email, lst_terms, lst_negative_words):\n",
    "    print(email)\n",
    "    #result = censor_terms(email, lst_terms)\n",
    "    email_split = email.split(\" \")\n",
    "    #print(email_split)\n",
    "    negative = lst_negative_words\n",
    "    \n",
    "    index_count = 0\n",
    "    \n",
    "    negative_word_count = 0\n",
    "    \n",
    "    \n",
    "    for word in email_split:\n",
    "        if negative_word_count < 2:\n",
    "            print(word)\n",
    "            try:\n",
    "                if negative.index(word) != -1:\n",
    "                    print(word)\n",
    "                    negative_word_count += 1\n",
    "                    print (negative_word_count)\n",
    "                    index_count = email_split.index(word)\n",
    "                    print(index_count)\n",
    "            except ValueError:\n",
    "                continue\n",
    "    else:\n",
    "        print(\"Count reached\")\n",
    "        partial = censor_terms(\" \".join(email_split[54:]), negative)\n",
    "        \n",
    "    return email[:54]\n",
    "    "
   ]
  },
  {
   "cell_type": "code",
   "execution_count": 10,
   "metadata": {},
   "outputs": [
    {
     "name": "stdout",
     "output_type": "stream",
     "text": [
      "Board of Investors,\n",
      "\n",
      "Things have taken a concerning turn down in the Lab.  Helena (she has insisted on being called  Helena, we're unsure how she came to that moniker) is still progressing at a rapid rate. Every day we see new developments in her thought patterns, but recently those developments have been more alarming than exciting.\n",
      "\n",
      "Let me give you one of the more distressing examples of this.  We had begun testing hypothetical humanitarian crises to observe how Helena determines best solutions. One scenario involved a famine plaguing an unresourced country.\n",
      "\n",
      "Horribly, Helena quickly recommended a course of action involving culling more than 60% of the local population. When pressed on reasoning, she stated that this method would maximize \"reduction in human suffering.\"\n",
      "\n",
      "This dangerous line of thinking has led many of us to think that we must have taken some wrong turns when developing some of the initial learning algorithms. We are considering taking Helena offline for the time being before the situation can spiral out of control.\n",
      "\n",
      "More updates soon,\n",
      "Francine, Head Scientist\n",
      "\n",
      "Board\n",
      "of\n",
      "Investors,\n",
      "\n",
      "Things\n",
      "have\n",
      "taken\n",
      "a\n",
      "concerning\n",
      "concerning\n",
      "1\n",
      "6\n",
      "turn\n",
      "down\n",
      "in\n",
      "the\n",
      "Lab.\n",
      "\n",
      "Helena\n",
      "(she\n",
      "has\n",
      "insisted\n",
      "on\n",
      "being\n",
      "called\n",
      "\n",
      "Helena,\n",
      "we're\n",
      "unsure\n",
      "how\n",
      "she\n",
      "came\n",
      "to\n",
      "that\n",
      "moniker)\n",
      "is\n",
      "still\n",
      "progressing\n",
      "at\n",
      "a\n",
      "rapid\n",
      "rate.\n",
      "Every\n",
      "day\n",
      "we\n",
      "see\n",
      "new\n",
      "developments\n",
      "in\n",
      "her\n",
      "thought\n",
      "patterns,\n",
      "but\n",
      "recently\n",
      "those\n",
      "developments\n",
      "have\n",
      "been\n",
      "more\n",
      "alarming\n",
      "alarming\n",
      "2\n",
      "54\n",
      "Count reached\n",
      "danger\n",
      "alarming\n",
      "out of control\n",
      "Board of Investors,\n",
      "\n",
      "Things have taken a concerning tu\n"
     ]
    }
   ],
   "source": [
    "print(censor_negative_terms(email_three,proprietary_terms, negative_words))"
   ]
  },
  {
   "cell_type": "code",
   "execution_count": null,
   "metadata": {},
   "outputs": [],
   "source": []
  },
  {
   "cell_type": "code",
   "execution_count": null,
   "metadata": {},
   "outputs": [],
   "source": []
  }
 ],
 "metadata": {
  "kernelspec": {
   "display_name": "Python 3",
   "language": "python",
   "name": "python3"
  },
  "language_info": {
   "codemirror_mode": {
    "name": "ipython",
    "version": 3
   },
   "file_extension": ".py",
   "mimetype": "text/x-python",
   "name": "python",
   "nbconvert_exporter": "python",
   "pygments_lexer": "ipython3",
   "version": "3.7.3"
  }
 },
 "nbformat": 4,
 "nbformat_minor": 2
}
