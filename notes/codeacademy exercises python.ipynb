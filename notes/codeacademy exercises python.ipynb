{
 "cells": [
  {
   "cell_type": "markdown",
   "metadata": {},
   "source": [
    "## Codeacademy exercises"
   ]
  },
  {
   "cell_type": "markdown",
   "metadata": {},
   "source": [
    "##### Count Letters\n",
    "Write a function called `unique_english_letters` that takes the string word as a parameter. The function should return the total number of unique letters in the string. Uppercase and lowercase letters should be counted as different letters.\n",
    "\n",
    "We’ve given you a list of every uppercase and lower case letter in the English alphabet. It will be helpful to include that list in your function."
   ]
  },
  {
   "cell_type": "code",
   "execution_count": 1,
   "metadata": {},
   "outputs": [],
   "source": [
    "letters = \"ABCDEFGHIJKLMNOPQRSTUVWXYZabcdefghijklmnopqrstuvwxyz\""
   ]
  },
  {
   "cell_type": "code",
   "execution_count": 7,
   "metadata": {},
   "outputs": [],
   "source": [
    "def unique_english_letters(word):\n",
    "    unique = []\n",
    "    for letter in word:\n",
    "        if (''.join(unique).find(letter) == -1):\n",
    "            unique.append(letter)\n",
    "            print(unique)\n",
    "        else:\n",
    "            continue\n",
    "            \n",
    "    return len(unique)"
   ]
  },
  {
   "cell_type": "code",
   "execution_count": 8,
   "metadata": {},
   "outputs": [
    {
     "name": "stdout",
     "output_type": "stream",
     "text": [
      "['m']\n",
      "['m', 'i']\n",
      "['m', 'i', 's']\n",
      "['m', 'i', 's', 'p']\n",
      "4\n"
     ]
    }
   ],
   "source": [
    "print(unique_english_letters(\"mississippi\"))"
   ]
  },
  {
   "cell_type": "markdown",
   "metadata": {},
   "source": [
    "##### Count X\n",
    "Write a function named `count_char_x` that takes a string named `word` and a single character named `x` as parameters. The function should return the number of times `x` appears in `word`.\n"
   ]
  },
  {
   "cell_type": "code",
   "execution_count": 9,
   "metadata": {},
   "outputs": [],
   "source": [
    "def count_char_x(word, x):\n",
    "    counter = 0\n",
    "    for letter in word:\n",
    "        if (letter == x):\n",
    "            counter += 1\n",
    "    return counter"
   ]
  },
  {
   "cell_type": "code",
   "execution_count": 10,
   "metadata": {},
   "outputs": [
    {
     "name": "stdout",
     "output_type": "stream",
     "text": [
      "4\n"
     ]
    }
   ],
   "source": [
    "print(count_char_x(\"mississippi\", \"s\"))"
   ]
  },
  {
   "cell_type": "markdown",
   "metadata": {},
   "source": [
    "##### Count Multiple X\n",
    "Write a function named `count_multi_char_x` that takes a string named `word` and a string named `x`. This function should do the same thing as the `count_char_x` function you just wrote - it should return the number of times `x` appears in `word`. However, this time, make sure your function works when `x` is multiple characters long.\n",
    "\n",
    "For example, `count_multi_char_x(\"Mississippi\", \"iss\")` should return `2`"
   ]
  },
  {
   "cell_type": "code",
   "execution_count": 92,
   "metadata": {},
   "outputs": [],
   "source": [
    "def count_multi_char_x(word, x):\n",
    "    counter = 0\n",
    "    stepper = len(x)\n",
    "    #print(stepper)\n",
    "    for index in range(len(word)):\n",
    "        #print(index, word[index: stepper], stepper)\n",
    "        if (word[index: stepper] == x):\n",
    "            counter += 1\n",
    "        stepper +=1\n",
    "    return counter"
   ]
  },
  {
   "cell_type": "code",
   "execution_count": 93,
   "metadata": {
    "scrolled": false
   },
   "outputs": [
    {
     "name": "stdout",
     "output_type": "stream",
     "text": [
      "2\n"
     ]
    }
   ],
   "source": [
    "print(count_multi_char_x(\"Mississippi\", \"iss\"))"
   ]
  },
  {
   "cell_type": "markdown",
   "metadata": {},
   "source": [
    "##### Substring Between\n",
    "Write a function named `substring_between_letters` that takes a string named `word`, a single character named `start`, and another character named `end`. This function should return the substring between the first occurrence of `start` and `end` in word. If `start` or `end` are not in `word`, the function should return `word`.\n",
    "\n",
    "For example, `substring_between_letters(\"apple\", \"p\", \"e\")` should return `\"pl\"`"
   ]
  },
  {
   "cell_type": "code",
   "execution_count": 58,
   "metadata": {},
   "outputs": [],
   "source": [
    "def substring_between_letters(word, start, end):\n",
    "    start = word.find(start)\n",
    "    end = word.find(end)\n",
    "    if start and end != -1:\n",
    "        #print(word[start + 1 : end])\n",
    "        return word[start + 1: end]\n",
    "    else:\n",
    "        return word\n"
   ]
  },
  {
   "cell_type": "code",
   "execution_count": 59,
   "metadata": {},
   "outputs": [
    {
     "name": "stdout",
     "output_type": "stream",
     "text": [
      "pl\n"
     ]
    }
   ],
   "source": [
    "print(substring_between_letters(\"apple\", \"p\", \"e\"))"
   ]
  },
  {
   "cell_type": "markdown",
   "metadata": {},
   "source": [
    "##### X Length\n",
    "Create a function called `x_length_words` that takes a string named `sentence` and an integer named `x` as parameters. This function should return `True` if every word in `sentence` has a length greater than or equal to `x`."
   ]
  },
  {
   "cell_type": "code",
   "execution_count": 21,
   "metadata": {},
   "outputs": [],
   "source": [
    "def x_length_words(sentence, x):\n",
    "    sentence = sentence.split(' ')\n",
    "    result = True\n",
    "    for word in sentence:\n",
    "        if len(word) >= x:\n",
    "            continue\n",
    "        else:\n",
    "            result = False\n",
    "            break\n",
    "    return result"
   ]
  },
  {
   "cell_type": "code",
   "execution_count": 20,
   "metadata": {},
   "outputs": [
    {
     "name": "stdout",
     "output_type": "stream",
     "text": [
      "False\n"
     ]
    }
   ],
   "source": [
    "print(x_length_words(\"i like apples\", 2))"
   ]
  },
  {
   "cell_type": "markdown",
   "metadata": {},
   "source": [
    "##### Check Name\n",
    "Write a function called `check_for_name` that takes two strings as parameters named `sentence` and `name`. The function should return `True` if name appears in sentence in all lowercase letters, all uppercase letters, or with any mix of uppercase and lowercase letters. The function should return `False` otherwise."
   ]
  },
  {
   "cell_type": "code",
   "execution_count": 23,
   "metadata": {},
   "outputs": [],
   "source": [
    "def check_for_name(sentence, name):\n",
    "    return sentence.lower().find(name.lower()) != -1"
   ]
  },
  {
   "cell_type": "code",
   "execution_count": 24,
   "metadata": {},
   "outputs": [
    {
     "name": "stdout",
     "output_type": "stream",
     "text": [
      "True\n"
     ]
    }
   ],
   "source": [
    "print(check_for_name(\"My name is Jamie\", \"Jamie\"))"
   ]
  },
  {
   "cell_type": "markdown",
   "metadata": {},
   "source": [
    "##### Every Other Letter\n",
    "Create a function named `every_other_letter` that takes a string named `word` as a parameter. The function should return a string containing every other letter in word."
   ]
  },
  {
   "cell_type": "code",
   "execution_count": 121,
   "metadata": {},
   "outputs": [],
   "source": [
    "# Would like to shorten this code at some point. See you can Sam!\n",
    "def every_other_letter(word):\n",
    "    s = ''\n",
    "    for index in range(len(word)):\n",
    "        if index % 2 == 0:\n",
    "            s += word[index]\n",
    "    return s"
   ]
  },
  {
   "cell_type": "code",
   "execution_count": 122,
   "metadata": {},
   "outputs": [
    {
     "name": "stdout",
     "output_type": "stream",
     "text": [
      "Hlowrd\n"
     ]
    }
   ],
   "source": [
    "print(every_other_letter(\"Hello world!\"))"
   ]
  },
  {
   "cell_type": "markdown",
   "metadata": {},
   "source": [
    "##### Reverse\n",
    "Write a function named `reverse_string` that has a string named `word` as a parameter. The function should return `word in reverse."
   ]
  },
  {
   "cell_type": "code",
   "execution_count": 38,
   "metadata": {},
   "outputs": [],
   "source": [
    "def reverse_string(word):\n",
    "    s = ''\n",
    "    for index in range(len(word)-1, -1, -1):\n",
    "        #print(word[index])\n",
    "        s += word[index]\n",
    "    return s"
   ]
  },
  {
   "cell_type": "code",
   "execution_count": 39,
   "metadata": {},
   "outputs": [
    {
     "name": "stdout",
     "output_type": "stream",
     "text": [
      "ymedacedoC\n"
     ]
    }
   ],
   "source": [
    "print(reverse_string(\"Codecademy\"))"
   ]
  },
  {
   "cell_type": "code",
   "execution_count": 36,
   "metadata": {},
   "outputs": [],
   "source": [
    "def reverse_string(word):\n",
    "    #print(len(word))\n",
    "    return ''.join([word[index] for index in range(len(word)-1, -1, -1)])"
   ]
  },
  {
   "cell_type": "code",
   "execution_count": 50,
   "metadata": {},
   "outputs": [],
   "source": [
    "def reverse_string(word):\n",
    "    #print(len(word))\n",
    "    return word[ : : -1] "
   ]
  },
  {
   "cell_type": "markdown",
   "metadata": {},
   "source": [
    "##### Make Spoonerism\n",
    "A Spoonerism is an error in speech when the first syllables of two words are switched. For example, a Spoonerism is made when someone says “Belly Jeans” instead of “Jelly Beans”.\n",
    "\n",
    "Write a function `called make_spoonerism` that takes two strings as parameters named `word1` and `word2`. Finding the first syllable of a word is a difficult task, so for our function, we’re going to switch the first letters of each word. Return the two new words as a single string separated by a space."
   ]
  },
  {
   "cell_type": "code",
   "execution_count": 60,
   "metadata": {},
   "outputs": [],
   "source": [
    "def make_spoonerism(word1, word2):\n",
    "    return (word2[0] + word1[1:]) + \" \" + (word1[0]+word2[1:])\n",
    "  "
   ]
  },
  {
   "cell_type": "code",
   "execution_count": 61,
   "metadata": {},
   "outputs": [
    {
     "name": "stdout",
     "output_type": "stream",
     "text": [
      "Lodecademy Cearn\n"
     ]
    }
   ],
   "source": [
    "print(make_spoonerism(\"Codecademy\", \"Learn\"))"
   ]
  },
  {
   "cell_type": "markdown",
   "metadata": {},
   "source": [
    "##### Add Exclamation\n",
    "Create a function named `add_exclamation` that has one parameter named `word`. This function should add exclamation points to the end of `word` until word is `20` characters long. If word is already at least `20` characters long, just return word."
   ]
  },
  {
   "cell_type": "code",
   "execution_count": 62,
   "metadata": {},
   "outputs": [],
   "source": [
    "def add_exclamation(word):\n",
    "    while len(word) < 20:\n",
    "        word += '!'\n",
    "    return word #, len(word)"
   ]
  },
  {
   "cell_type": "code",
   "execution_count": 63,
   "metadata": {},
   "outputs": [
    {
     "name": "stdout",
     "output_type": "stream",
     "text": [
      "Codecademy!!!!!!!!!!\n"
     ]
    }
   ],
   "source": [
    "print(add_exclamation(\"Codecademy\"))"
   ]
  }
 ],
 "metadata": {
  "kernelspec": {
   "display_name": "Python 3",
   "language": "python",
   "name": "python3"
  },
  "language_info": {
   "codemirror_mode": {
    "name": "ipython",
    "version": 3
   },
   "file_extension": ".py",
   "mimetype": "text/x-python",
   "name": "python",
   "nbconvert_exporter": "python",
   "pygments_lexer": "ipython3",
   "version": "3.7.3"
  }
 },
 "nbformat": 4,
 "nbformat_minor": 2
}
