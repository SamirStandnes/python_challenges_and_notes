{
 "cells": [
  {
   "cell_type": "markdown",
   "metadata": {},
   "source": [
    "### Codeacademy exercises"
   ]
  },
  {
   "cell_type": "markdown",
   "metadata": {},
   "source": [
    "Write a function called `unique_english_letters` that takes the string word as a parameter. The function should return the total number of unique letters in the string. Uppercase and lowercase letters should be counted as different letters.\n",
    "\n",
    "We’ve given you a list of every uppercase and lower case letter in the English alphabet. It will be helpful to include that list in your function."
   ]
  },
  {
   "cell_type": "code",
   "execution_count": 1,
   "metadata": {},
   "outputs": [],
   "source": [
    "letters = \"ABCDEFGHIJKLMNOPQRSTUVWXYZabcdefghijklmnopqrstuvwxyz\""
   ]
  },
  {
   "cell_type": "code",
   "execution_count": 7,
   "metadata": {},
   "outputs": [],
   "source": [
    "def unique_english_letters(word):\n",
    "    unique = []\n",
    "    for letter in word:\n",
    "        if (''.join(unique).find(letter) == -1):\n",
    "            unique.append(letter)\n",
    "            print(unique)\n",
    "        else:\n",
    "            continue\n",
    "            \n",
    "    return len(unique)"
   ]
  },
  {
   "cell_type": "code",
   "execution_count": 8,
   "metadata": {},
   "outputs": [
    {
     "name": "stdout",
     "output_type": "stream",
     "text": [
      "['m']\n",
      "['m', 'i']\n",
      "['m', 'i', 's']\n",
      "['m', 'i', 's', 'p']\n",
      "4\n"
     ]
    }
   ],
   "source": [
    "print(unique_english_letters(\"mississippi\"))"
   ]
  },
  {
   "cell_type": "markdown",
   "metadata": {},
   "source": [
    "Write a function named `count_char_x` that takes a string named `word` and a single character named `x` as parameters. The function should return the number of times `x` appears in `word`.\n"
   ]
  },
  {
   "cell_type": "code",
   "execution_count": 9,
   "metadata": {},
   "outputs": [],
   "source": [
    "def count_char_x(word, x):\n",
    "    counter = 0\n",
    "    for letter in word:\n",
    "        if (letter == x):\n",
    "            counter += 1\n",
    "    return counter"
   ]
  },
  {
   "cell_type": "code",
   "execution_count": 10,
   "metadata": {},
   "outputs": [
    {
     "name": "stdout",
     "output_type": "stream",
     "text": [
      "4\n"
     ]
    }
   ],
   "source": [
    "print(count_char_x(\"mississippi\", \"s\"))"
   ]
  },
  {
   "cell_type": "markdown",
   "metadata": {},
   "source": [
    "Write a function named `count_multi_char_x` that takes a string named `word` and a string named `x`. This function should do the same thing as the `count_char_x` function you just wrote - it should return the number of times `x` appears in `word`. However, this time, make sure your function works when `x` is multiple characters long.\n",
    "\n",
    "For example, `count_multi_char_x(\"Mississippi\", \"iss\")` should return `2`"
   ]
  },
  {
   "cell_type": "code",
   "execution_count": 92,
   "metadata": {},
   "outputs": [],
   "source": [
    "def count_multi_char_x(word, x):\n",
    "    counter = 0\n",
    "    stepper = len(x)\n",
    "    #print(stepper)\n",
    "    for index in range(len(word)):\n",
    "        #print(index, word[index: stepper], stepper)\n",
    "        if (word[index: stepper] == x):\n",
    "            counter += 1\n",
    "        stepper +=1\n",
    "    return counter"
   ]
  },
  {
   "cell_type": "code",
   "execution_count": 93,
   "metadata": {
    "scrolled": false
   },
   "outputs": [
    {
     "name": "stdout",
     "output_type": "stream",
     "text": [
      "2\n"
     ]
    }
   ],
   "source": [
    "print(count_multi_char_x(\"Mississippi\", \"iss\"))"
   ]
  },
  {
   "cell_type": "code",
   "execution_count": null,
   "metadata": {},
   "outputs": [],
   "source": []
  }
 ],
 "metadata": {
  "kernelspec": {
   "display_name": "Python 3",
   "language": "python",
   "name": "python3"
  },
  "language_info": {
   "codemirror_mode": {
    "name": "ipython",
    "version": 3
   },
   "file_extension": ".py",
   "mimetype": "text/x-python",
   "name": "python",
   "nbconvert_exporter": "python",
   "pygments_lexer": "ipython3",
   "version": "3.7.3"
  }
 },
 "nbformat": 4,
 "nbformat_minor": 2
}
